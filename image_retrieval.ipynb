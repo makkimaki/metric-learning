{
  "nbformat": 4,
  "nbformat_minor": 0,
  "metadata": {
    "colab": {
      "name": "image_retrieval.ipynb",
      "provenance": [],
      "collapsed_sections": [],
      "authorship_tag": "ABX9TyOEaULLyta+eYS2YimeDEyi",
      "include_colab_link": true
    },
    "kernelspec": {
      "name": "python3",
      "display_name": "Python 3"
    },
    "language_info": {
      "name": "python"
    }
  },
  "cells": [
    {
      "cell_type": "markdown",
      "metadata": {
        "id": "view-in-github",
        "colab_type": "text"
      },
      "source": [
        "<a href=\"https://colab.research.google.com/github/makkimaki/metric-learning/blob/main/image_retrieval.ipynb\" target=\"_parent\"><img src=\"https://colab.research.google.com/assets/colab-badge.svg\" alt=\"Open In Colab\"/></a>"
      ]
    },
    {
      "cell_type": "code",
      "execution_count": null,
      "metadata": {
        "id": "65_gGq-GGsnI"
      },
      "outputs": [],
      "source": [
        "import numpy as np\n",
        "import pandas as pd \n",
        "import torch\n",
        "import matplotlib.pyplot as plt\n",
        "import cv2\n",
        "from pathlib import Path\n",
        "import time\n",
        "from typing import List, Optional, Tuple\n",
        "import faiss\n"
      ]
    },
    {
      "cell_type": "code",
      "source": [
        "class ImageRetrieval(object):\n",
        "    def __init__(self,\n",
        "                 feature_extractor, \n",
        "                 features_path: Path,\n",
        "                 load_index: bool = False,\n",
        "                 index_path: str = None,\n",
        "                 use_gpu: bool = False\n",
        "                 ):\n",
        "        features = np.load(features_path)\n",
        "        self._features = torch.from_numpy(features[\"images_reduced\"])\n",
        "        self._extractor = feature_extractor\n",
        "        self._use_gpu = use_gpu\n",
        "    \n",
        "    def retrieve(\n",
        "        self,\n",
        "        image: np.ndarray,\n",
        "        top_k: int = 8,\n",
        "        ) -> Tuple[np.ndarray, np.ndarray]:\n",
        "\n",
        "        features = self._extractor.extract(image)\n",
        "\n"
      ],
      "metadata": {
        "colab": {
          "base_uri": "https://localhost:8080/",
          "height": 135
        },
        "id": "GjWogDciHGUI",
        "outputId": "7ddeb326-5ed3-44f0-de49-6a99d69de6ea"
      },
      "execution_count": null,
      "outputs": [
        {
          "output_type": "error",
          "ename": "SyntaxError",
          "evalue": "ignored",
          "traceback": [
            "\u001b[0;36m  File \u001b[0;32m\"<ipython-input-5-4aefb9ac8b5e>\"\u001b[0;36m, line \u001b[0;32m6\u001b[0m\n\u001b[0;31m    ):\u001b[0m\n\u001b[0m      ^\u001b[0m\n\u001b[0;31mSyntaxError\u001b[0m\u001b[0;31m:\u001b[0m unexpected EOF while parsing\n"
          ]
        }
      ]
    },
    {
      "cell_type": "code",
      "source": [
        "def remove_negative_index(index_vector: np.ndarray) -> np.ndarray:\n",
        "    \"\"\"Non-negative index extractor\n",
        "\n",
        "    Args: \n",
        "        index_vector (np.ndarray): 1d vector indices\n",
        "    \n",
        "    Return:\n",
        "        np.ndarray: 1d vector index without '-1' indices\n",
        "\n",
        "    \"\"\"\n",
        "    array_indices = np.delete(index_vector, np.where(index_vector<0)[0], axis=0)\n",
        "\n",
        "    return array_indices\n",
        "\n",
        "\n",
        "class FaissHNSW(object):\n",
        "    def __init__(self, load_index, index_path, param_dict, features):\n",
        "        if not load_index:\n",
        "            dim = param_dict[\"dim\"]\n",
        "            M = param[\"M\"]\n",
        "\n",
        "            self._index = faiss.IndexHNSWFlat(dim, M, faiss.METRIC_INNER_PRODUCT)\n",
        "            self._index.add(features)\n",
        "\n",
        "            ## save indices\n",
        "            faiss.write_index(self._index, index_path)\n",
        "            print(f\"Faiss index is saved to: {index_path}\")\n",
        "\n",
        "        else:\n",
        "            # load index\n",
        "            self._index = faiss.read_index(index_path)\n",
        "            print(f\"FaissHNSW index loaded from: {index_path}\")\n",
        "\n",
        "    def search(self, query_vector, top_k):\n",
        "        similarity, indices = self._index.search(query_vector, top_k)\n",
        "        similarity, indices = similarity[0], indices[0]\n",
        "        indices = remove_negative_index(indices)\n",
        "\n",
        "        return indices, similarity\n",
        "\n"
      ],
      "metadata": {
        "id": "LU4aglYYNu4z"
      },
      "execution_count": null,
      "outputs": []
    },
    {
      "cell_type": "code",
      "source": [
        ""
      ],
      "metadata": {
        "id": "mukn_UQ_H0MQ"
      },
      "execution_count": null,
      "outputs": []
    }
  ]
}